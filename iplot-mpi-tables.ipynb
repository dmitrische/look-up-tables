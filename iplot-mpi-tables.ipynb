{
 "cells": [
  {
   "cell_type": "markdown",
   "id": "410141b1",
   "metadata": {},
   "source": [
    "# Claiming forest carbon\n",
    "This notebook reads, transforms, and plots selected elements of the look-up tables from [Schedule 6 of the Climate Change (Forestry Sector) Regulations 2008](https://www.legislation.govt.nz/regulation/public/2008/0355/latest/DLM1633733.html). \n",
    "\n",
    "Note that to view the interactive plots you need to rerun the whole notebook (by clicking the button with symbol resembling >> or by clicking Run All under Cell in the menu)."
   ]
  },
  {
   "cell_type": "markdown",
   "id": "35b5db58",
   "metadata": {},
   "source": [
    "## Look-up tables\n",
    "The look-up tables are stored as four separate files in CSV format, e.g. ``./tables-data/table1.csv``, which where fetched from the official website using a script ``./tables-data/fetch.py``. \n",
    "\n",
    "These tables contain pre-calculated values for the *cumulative* carbon stock $S_a^T$ measured in tonnes per hectare of a given forest type $T$ and age $a=0,1,\\dots,a^{\\rm max}_{T}$ (in years), where $a^{\\rm max}_{T} = 35$ for $T =$ \"Exotic hardwoods\" and $a^{\\rm max}_{T} = 50$ for the other supported forest types.\n",
    "\n",
    "Annual carbon stock *change* $s_a^T$ can be calculated using the following formula:\n",
    "\n",
    "$$\n",
    "s_a^T = \\left\\{\n",
    "\\begin{array}{lcl}\n",
    "0 & \\mathrm{for} & a = 0, \\\\\n",
    "S_a^T - S_{a-1}^T & \\mathrm{for} & a = 1,\\dots, a^{\\rm max}_{T}.\n",
    "\\end{array} \\right.\n",
    "$$\n",
    "\n",
    "We now build an interactive plot of $S_{a}^{T}$ and $s_{a}^{T}$ vs $a$ for a given $T$, which can be selected using a drop-down menu."
   ]
  },
  {
   "cell_type": "code",
   "execution_count": 1,
   "id": "81f2dbfd",
   "metadata": {},
   "outputs": [],
   "source": [
    "import pandas as pd             # for handling dataframes\n",
    "import matplotlib.pyplot as plt # for plotting data\n",
    "import ipywidgets as widgets    # for interactivity"
   ]
  },
  {
   "cell_type": "code",
   "execution_count": 2,
   "id": "135e8ee0",
   "metadata": {},
   "outputs": [],
   "source": [
    "# Function for calculating annual carbon stock change per hectare\n",
    "def stock_change(y, T, table):\n",
    "    return round(table[T][y] - table[T][y-1], 1)\n",
    "\n",
    "# Function for calling stock_change over the entire time span \n",
    "def stock_changes(T, table):\n",
    "    values=[0]\n",
    "    for y in range(1, len(table)):\n",
    "        values.append(stock_change(y,T,table))\n",
    "    return values"
   ]
  },
  {
   "cell_type": "code",
   "execution_count": 3,
   "id": "d85a98cb",
   "metadata": {},
   "outputs": [
    {
     "data": {
      "text/html": [
       "<div>\n",
       "<style scoped>\n",
       "    .dataframe tbody tr th:only-of-type {\n",
       "        vertical-align: middle;\n",
       "    }\n",
       "\n",
       "    .dataframe tbody tr th {\n",
       "        vertical-align: top;\n",
       "    }\n",
       "\n",
       "    .dataframe thead th {\n",
       "        text-align: right;\n",
       "    }\n",
       "</style>\n",
       "<table border=\"1\" class=\"dataframe\">\n",
       "  <thead>\n",
       "    <tr style=\"text-align: right;\">\n",
       "      <th></th>\n",
       "      <th>P.Radiata in Ak</th>\n",
       "      <th>P.Radiata in W/T</th>\n",
       "      <th>P.Radiata in BOP</th>\n",
       "      <th>P.Radiata in Gis</th>\n",
       "      <th>P.Radiata in H/SNI</th>\n",
       "      <th>P.Radiata in N/M</th>\n",
       "      <th>P.Radiata in C/W</th>\n",
       "      <th>P.Radiata in O</th>\n",
       "      <th>P.Radiata in S</th>\n",
       "      <th>Douglas fir</th>\n",
       "      <th>Exotic softwoods</th>\n",
       "      <th>Exotic hardwoods</th>\n",
       "      <th>Indigenous forest</th>\n",
       "    </tr>\n",
       "  </thead>\n",
       "  <tbody>\n",
       "    <tr>\n",
       "      <th>0</th>\n",
       "      <td>0.0</td>\n",
       "      <td>0.0</td>\n",
       "      <td>0.0</td>\n",
       "      <td>0.0</td>\n",
       "      <td>0.0</td>\n",
       "      <td>0.0</td>\n",
       "      <td>0.0</td>\n",
       "      <td>0.0</td>\n",
       "      <td>0.0</td>\n",
       "      <td>0.0</td>\n",
       "      <td>0.0</td>\n",
       "      <td>0.0</td>\n",
       "      <td>0.0</td>\n",
       "    </tr>\n",
       "    <tr>\n",
       "      <th>1</th>\n",
       "      <td>0.5</td>\n",
       "      <td>0.4</td>\n",
       "      <td>0.4</td>\n",
       "      <td>0.6</td>\n",
       "      <td>0.5</td>\n",
       "      <td>0.2</td>\n",
       "      <td>0.2</td>\n",
       "      <td>0.3</td>\n",
       "      <td>0.2</td>\n",
       "      <td>0.1</td>\n",
       "      <td>0.2</td>\n",
       "      <td>0.1</td>\n",
       "      <td>0.6</td>\n",
       "    </tr>\n",
       "    <tr>\n",
       "      <th>2</th>\n",
       "      <td>3.0</td>\n",
       "      <td>3.0</td>\n",
       "      <td>2.0</td>\n",
       "      <td>4.0</td>\n",
       "      <td>3.0</td>\n",
       "      <td>1.0</td>\n",
       "      <td>1.0</td>\n",
       "      <td>2.0</td>\n",
       "      <td>1.0</td>\n",
       "      <td>0.1</td>\n",
       "      <td>1.0</td>\n",
       "      <td>3.0</td>\n",
       "      <td>1.2</td>\n",
       "    </tr>\n",
       "    <tr>\n",
       "      <th>3</th>\n",
       "      <td>8.0</td>\n",
       "      <td>7.0</td>\n",
       "      <td>6.0</td>\n",
       "      <td>10.0</td>\n",
       "      <td>9.0</td>\n",
       "      <td>3.0</td>\n",
       "      <td>2.0</td>\n",
       "      <td>5.0</td>\n",
       "      <td>3.0</td>\n",
       "      <td>0.4</td>\n",
       "      <td>3.0</td>\n",
       "      <td>13.0</td>\n",
       "      <td>2.5</td>\n",
       "    </tr>\n",
       "    <tr>\n",
       "      <th>4</th>\n",
       "      <td>29.0</td>\n",
       "      <td>25.0</td>\n",
       "      <td>24.0</td>\n",
       "      <td>37.0</td>\n",
       "      <td>34.0</td>\n",
       "      <td>12.0</td>\n",
       "      <td>5.0</td>\n",
       "      <td>9.0</td>\n",
       "      <td>14.0</td>\n",
       "      <td>1.0</td>\n",
       "      <td>12.0</td>\n",
       "      <td>34.0</td>\n",
       "      <td>4.6</td>\n",
       "    </tr>\n",
       "    <tr>\n",
       "      <th>5</th>\n",
       "      <td>59.0</td>\n",
       "      <td>50.0</td>\n",
       "      <td>51.0</td>\n",
       "      <td>77.0</td>\n",
       "      <td>71.0</td>\n",
       "      <td>28.0</td>\n",
       "      <td>15.0</td>\n",
       "      <td>26.0</td>\n",
       "      <td>35.0</td>\n",
       "      <td>2.0</td>\n",
       "      <td>26.0</td>\n",
       "      <td>63.0</td>\n",
       "      <td>7.8</td>\n",
       "    </tr>\n",
       "    <tr>\n",
       "      <th>6</th>\n",
       "      <td>98.0</td>\n",
       "      <td>84.0</td>\n",
       "      <td>84.0</td>\n",
       "      <td>121.0</td>\n",
       "      <td>113.0</td>\n",
       "      <td>48.0</td>\n",
       "      <td>31.0</td>\n",
       "      <td>49.0</td>\n",
       "      <td>65.0</td>\n",
       "      <td>4.0</td>\n",
       "      <td>45.0</td>\n",
       "      <td>98.0</td>\n",
       "      <td>12.1</td>\n",
       "    </tr>\n",
       "    <tr>\n",
       "      <th>7</th>\n",
       "      <td>131.0</td>\n",
       "      <td>111.0</td>\n",
       "      <td>118.0</td>\n",
       "      <td>162.0</td>\n",
       "      <td>155.0</td>\n",
       "      <td>73.0</td>\n",
       "      <td>53.0</td>\n",
       "      <td>72.0</td>\n",
       "      <td>99.0</td>\n",
       "      <td>7.0</td>\n",
       "      <td>63.0</td>\n",
       "      <td>137.0</td>\n",
       "      <td>17.5</td>\n",
       "    </tr>\n",
       "    <tr>\n",
       "      <th>8</th>\n",
       "      <td>153.0</td>\n",
       "      <td>130.0</td>\n",
       "      <td>143.0</td>\n",
       "      <td>190.0</td>\n",
       "      <td>185.0</td>\n",
       "      <td>100.0</td>\n",
       "      <td>76.0</td>\n",
       "      <td>94.0</td>\n",
       "      <td>134.0</td>\n",
       "      <td>20.0</td>\n",
       "      <td>77.0</td>\n",
       "      <td>176.0</td>\n",
       "      <td>24.0</td>\n",
       "    </tr>\n",
       "    <tr>\n",
       "      <th>9</th>\n",
       "      <td>166.0</td>\n",
       "      <td>142.0</td>\n",
       "      <td>155.0</td>\n",
       "      <td>201.0</td>\n",
       "      <td>197.0</td>\n",
       "      <td>117.0</td>\n",
       "      <td>101.0</td>\n",
       "      <td>124.0</td>\n",
       "      <td>160.0</td>\n",
       "      <td>33.0</td>\n",
       "      <td>87.0</td>\n",
       "      <td>214.0</td>\n",
       "      <td>31.6</td>\n",
       "    </tr>\n",
       "  </tbody>\n",
       "</table>\n",
       "</div>"
      ],
      "text/plain": [
       "   P.Radiata in Ak  P.Radiata in W/T  P.Radiata in BOP  P.Radiata in Gis  \\\n",
       "0              0.0               0.0               0.0               0.0   \n",
       "1              0.5               0.4               0.4               0.6   \n",
       "2              3.0               3.0               2.0               4.0   \n",
       "3              8.0               7.0               6.0              10.0   \n",
       "4             29.0              25.0              24.0              37.0   \n",
       "5             59.0              50.0              51.0              77.0   \n",
       "6             98.0              84.0              84.0             121.0   \n",
       "7            131.0             111.0             118.0             162.0   \n",
       "8            153.0             130.0             143.0             190.0   \n",
       "9            166.0             142.0             155.0             201.0   \n",
       "\n",
       "   P.Radiata in H/SNI  P.Radiata in N/M  P.Radiata in C/W  P.Radiata in O  \\\n",
       "0                 0.0               0.0               0.0             0.0   \n",
       "1                 0.5               0.2               0.2             0.3   \n",
       "2                 3.0               1.0               1.0             2.0   \n",
       "3                 9.0               3.0               2.0             5.0   \n",
       "4                34.0              12.0               5.0             9.0   \n",
       "5                71.0              28.0              15.0            26.0   \n",
       "6               113.0              48.0              31.0            49.0   \n",
       "7               155.0              73.0              53.0            72.0   \n",
       "8               185.0             100.0              76.0            94.0   \n",
       "9               197.0             117.0             101.0           124.0   \n",
       "\n",
       "   P.Radiata in S  Douglas fir  Exotic softwoods  Exotic hardwoods  \\\n",
       "0             0.0          0.0               0.0               0.0   \n",
       "1             0.2          0.1               0.2               0.1   \n",
       "2             1.0          0.1               1.0               3.0   \n",
       "3             3.0          0.4               3.0              13.0   \n",
       "4            14.0          1.0              12.0              34.0   \n",
       "5            35.0          2.0              26.0              63.0   \n",
       "6            65.0          4.0              45.0              98.0   \n",
       "7            99.0          7.0              63.0             137.0   \n",
       "8           134.0         20.0              77.0             176.0   \n",
       "9           160.0         33.0              87.0             214.0   \n",
       "\n",
       "   Indigenous forest  \n",
       "0                0.0  \n",
       "1                0.6  \n",
       "2                1.2  \n",
       "3                2.5  \n",
       "4                4.6  \n",
       "5                7.8  \n",
       "6               12.1  \n",
       "7               17.5  \n",
       "8               24.0  \n",
       "9               31.6  "
      ]
     },
     "execution_count": 3,
     "metadata": {},
     "output_type": "execute_result"
    }
   ],
   "source": [
    "# load first two tables as dataframes and merge into one\n",
    "table = pd.concat([pd.read_csv('./tables-data/table1.csv'),\n",
    "                   pd.read_csv('./tables-data/table2.csv')], \n",
    "                  axis = 1)\n",
    "\n",
    "# drop both 'Age' columns, since age matches row index\n",
    "table.drop('Age (yrs)', inplace = True, axis = 1)\n",
    "\n",
    "# prepend \"P.Radiata\" to regionalised Pinus Radiata.\n",
    "subs = {}\n",
    "for label in table.columns:\n",
    "    if(len(label.split()) == 1): \n",
    "        subs[label]=\"P.Radiata in \"+label\n",
    "table = table.rename(columns = subs)\n",
    "\n",
    "# show first few rows of the final table\n",
    "table.head(10)"
   ]
  },
  {
   "cell_type": "code",
   "execution_count": 4,
   "id": "70d4982e",
   "metadata": {},
   "outputs": [
    {
     "data": {
      "application/vnd.jupyter.widget-view+json": {
       "model_id": "e5bd004683f848afb995a90c6b13fec7",
       "version_major": 2,
       "version_minor": 0
      },
      "text/plain": [
       "interactive(children=(Dropdown(description='forest type', index=12, options=('P.Radiata in Ak', 'P.Radiata in …"
      ]
     },
     "metadata": {},
     "output_type": "display_data"
    }
   ],
   "source": [
    "# Wrap the plotting in a function\n",
    "def plot_table(T, table):\n",
    "    \n",
    "    years = list(range(len(table)))\n",
    "    stock = list(table[T].values)\n",
    "    change = stock_changes(T=T,table=table);\n",
    "\n",
    "    # Instantiate figure with two axes\n",
    "    fig, axs = plt.subplots(2, figsize=[8.0,6.0], sharex = True)\n",
    "    \n",
    "    axs[0].plot(stock)\n",
    "    axs[0].set_ylim(0)\n",
    "    axs[0].set_ylabel(\"carbon stock \\n (tons/ha)\")\n",
    "    \n",
    "    axs[1].bar(x = years, \n",
    "               height = change, \n",
    "               width = -1.0, # -ve to align with right edge\n",
    "               align = 'edge')\n",
    "    axs[1].set_xlim(years[0],years[-1])\n",
    "    axs[1].set_xlabel(\"age (years)\")\n",
    "    axs[1].set_ylabel(\"annual change \\n (tons/ha)\")\n",
    "\n",
    "    plt.show()\n",
    "\n",
    "# Define widget for the forest type\n",
    "T_widget = widgets.Dropdown(options = list(table.columns), \n",
    "                            value = 'Indigenous forest', \n",
    "                            description = 'forest type')\n",
    "\n",
    "# Instantiate an interactive plot\n",
    "ifig = widgets.interactive(plot_table, \n",
    "                           T = T_widget, \n",
    "                           table = widgets.fixed(table))\n",
    "\n",
    "# Show the plot\n",
    "ifig"
   ]
  },
  {
   "cell_type": "markdown",
   "id": "19b70847",
   "metadata": {},
   "source": [
    "## Claim reporting\n",
    "\n",
    "Now we consider a Claim of carbon stock change in a forest over a number of consecutive years. The calculation requires two additional parameters: $a_{0}$ - the forest age at the start of the first reporting year; and $N$ - the total number of reporting years. Note that the two parameters are not independent, since the underlying look-up tables go up to only $a_{T}^{\\rm max}$ years. That is, not only does the calculation require $a_{0} < a_{T}^{\\rm max}$, but also $N \\leq a_{T}^{\\rm max} - a_{0}$, so the range of validity for $N$ depends on the value of $a_{0}$.\n",
    "\n",
    "We now build an interactive plot of the carbon stock change $s_{a_y}^{T}$ vs reporting years $y=1,\\dots,N$, allowing the user to adjust $T$, $a_{0}$, and $N$. The total amount of carbon claimed over $N$ years, i.e. $\\sum_{y=1}^{N}s_{a_{y}}^{T}$, will be printed in the plot title."
   ]
  },
  {
   "cell_type": "code",
   "execution_count": 5,
   "id": "a2c1bbce",
   "metadata": {},
   "outputs": [],
   "source": [
    "# Function for calling stock_change over a time window \n",
    "def claim_years(N, a0, T, table):\n",
    "    \n",
    "    values=[]\n",
    "    \n",
    "    for y in range(a0+1, a0+N+1):\n",
    "        values.append(stock_change(y,T,table))\n",
    "    \n",
    "    return values"
   ]
  },
  {
   "cell_type": "code",
   "execution_count": 6,
   "id": "16b97402",
   "metadata": {},
   "outputs": [],
   "source": [
    "# Wrap the plotting as a callable function\n",
    "def plot_claim(N, a0, T, table):\n",
    "    \n",
    "    domain = list(range(1,N+1))\n",
    "    values = claim_years(N = N, a0 = a0, T = T, table = table)\n",
    "    \n",
    "    # Instantiate figure for plotting\n",
    "    fig = plt.figure()\n",
    "    plt.bar(x = domain, \n",
    "            height = values, \n",
    "            width = 0.75, # -ve to align with right edge\n",
    "            align = 'center')\n",
    "    plt.xlim(domain[0]-0.5,domain[-1]+0.5)\n",
    "    plt.xlabel(\"reporting year\")\n",
    "    plt.ylabel(\"annual change (tons/ha)\")\n",
    "    plt.title('Total claim: '\n",
    "              +str(round(sum(values),1))+\n",
    "              ' tons/ha over '+str(N)+' years', fontsize=16)\n",
    "    plt.show()"
   ]
  },
  {
   "cell_type": "code",
   "execution_count": 7,
   "id": "17e4f5af",
   "metadata": {},
   "outputs": [
    {
     "data": {
      "image/png": "[encoded data removed]",
      "text/plain": [
       "<Figure size 432x288 with 1 Axes>"
      ]
     },
     "metadata": {
      "needs_background": "light"
     },
     "output_type": "display_data"
    }
   ],
   "source": [
    "# Show a static example plot\n",
    "plot_claim(N = 15, \n",
    "           a0 = 5, \n",
    "           T = 'Indigenous forest', \n",
    "           table = table)"
   ]
  },
  {
   "cell_type": "code",
   "execution_count": 8,
   "id": "23d51904",
   "metadata": {},
   "outputs": [
    {
     "data": {
      "application/vnd.jupyter.widget-view+json": {
       "model_id": "ba874dd6b60c40a8925693c0339686bb",
       "version_major": 2,
       "version_minor": 0
      },
      "text/plain": [
       "interactive(children=(IntSlider(value=10, description='$N$', max=50, min=1), IntSlider(value=0, description='$…"
      ]
     },
     "metadata": {},
     "output_type": "display_data"
    }
   ],
   "source": [
    "# Define widgets for the three parameters\n",
    "T_widget = widgets.Dropdown(options = list(table.columns[1:]), \n",
    "                            value = 'Indigenous forest', \n",
    "                            description='$T$')\n",
    "\n",
    "a0_widget = widgets.IntSlider(value = 0,\n",
    "                              min = 0,\n",
    "                              max = 49,\n",
    "                              description = '$a_{0}$')\n",
    "\n",
    "N_widget = widgets.IntSlider(value=10, \n",
    "                             min=1, \n",
    "                             max=50, \n",
    "                             description='$N$')\n",
    "\n",
    "# Special treatment for \"Exotic hardwoods\"\n",
    "def update_a0_range(*args):\n",
    "    if(T_widget.value == 'Exotic hardwoods'):\n",
    "        a0_widget.max = 35\n",
    "    else:\n",
    "        a0_widget.max = 50\n",
    "\n",
    "T_widget.observe(update_a0_range, 'value')\n",
    "\n",
    "# Dynamically update the range of validity of N_widget\n",
    "def update_N_range(*args):\n",
    "    N_widget.max = a0_widget.max - a0_widget.value\n",
    "\n",
    "a0_widget.observe(update_N_range, 'value')\n",
    "\n",
    "# Instantiate an interactive plot\n",
    "ifig = widgets.interactive(plot_claim, \n",
    "                           T = T_widget, \n",
    "                           a0 = a0_widget, \n",
    "                           N = N_widget, \n",
    "                           table = widgets.fixed(table))\n",
    "\n",
    "# Show the plot\n",
    "ifig"
   ]
  },
  {
   "cell_type": "markdown",
   "id": "e1e72ddf",
   "metadata": {},
   "source": [
    "## Growth modelling\n",
    "\n",
    "Here we attempt to fit a couple of simple models to the data in the look-up tables. Since the data itself was generated using (unspecified) models, our attempts can be thought of as reverse engineering or guesstimating the underlying models."
   ]
  },
  {
   "cell_type": "code",
   "execution_count": 9,
   "id": "d5da57b7",
   "metadata": {},
   "outputs": [],
   "source": [
    "# Import more modules for numerics and curve fitting.\n",
    "import numpy as np\n",
    "from scipy.optimize import curve_fit"
   ]
  },
  {
   "cell_type": "markdown",
   "id": "7ba19aa4",
   "metadata": {},
   "source": [
    "### Sigmoid growth\n",
    "The tabulated data for \"Indigenous forest\" shows a fairly smooth S-shaped (or sigmoidal) growth in carbon stock: the growth starts slowly but accelerates until an inflection point, beyond which growth decelerates and eventually saturates entirely. This is a common pattern which can be modelled using various S-shaped functions."
   ]
  },
  {
   "cell_type": "markdown",
   "id": "603879db",
   "metadata": {},
   "source": [
    "#### Logistic\n",
    "\n",
    "Logistic growth refers to S-shaped growth with the time dependence described by the following formula,\n",
    "\n",
    "$$\n",
    "Q(t) = \\frac{a}{1 + \\exp(b(c-t))},\n",
    "$$\n",
    "\n",
    "where $Q(t)$ is a time-dependent quantity, $t$ is time, and $a,b,c$ are parameters controlling, respectively, the upper limit, the growth rate, and the position of the inflection point along the time axis. The effects of these parameters can be explored in an interactive plot built below.  "
   ]
  },
  {
   "cell_type": "code",
   "execution_count": 10,
   "id": "35e62460",
   "metadata": {},
   "outputs": [],
   "source": [
    "# Define logistic function with the three usual parameters\n",
    "# and a fourth parameter introduced for vertical ofsetting.\n",
    "def logistic(t,a=1.0, b=1.0, c=0.0, d=0.0):\n",
    "    return a/(1.0+np.exp(b*(c-t))) + d\n",
    "\n",
    "# Define the analytic derivative\n",
    "def logistic_deriv(t,a=1.0,b=1.0,c=0.0):\n",
    "    e = np.exp(b*(c-t))\n",
    "    return a*b*e/(1+e)**2\n",
    "\n",
    "# Create vectortized versions\n",
    "vlogistic = np.vectorize(logistic)\n",
    "vlogistic_deriv = np.vectorize(logistic_deriv)"
   ]
  },
  {
   "cell_type": "markdown",
   "id": "b62d781c",
   "metadata": {},
   "source": [
    "#### Gompertz\n",
    "Gompertz growth is another kind of S-shaped growth, where the time dependence is described by a double exponential function:\n",
    "\n",
    "$$\n",
    "Q(t)  =  a \\exp(-\\exp(b(c-t))).\n",
    "$$\n",
    "\n",
    "One noteworthy difference between the Gompertz model and the logistic model is that the latter is symmetric about the inflection point while the former is not. This difference is illustrated in plots below."
   ]
  },
  {
   "cell_type": "code",
   "execution_count": 11,
   "id": "ef134e50",
   "metadata": {},
   "outputs": [],
   "source": [
    "# Define gompertz function with the three usual parameters\n",
    "# and a fourth parameter introduced for vertical ofsetting.\n",
    "\n",
    "def gompertz(t,a=1.0,b=1.0,c=0.0, d=0.0):\n",
    "    return a*np.exp(-np.exp(b*(c-t))) + d\n",
    "\n",
    "# Define the anlytic derivative\n",
    "def gompertz_deriv(t, a=1.0, b=1.0, c=0.0):\n",
    "    g = np.exp(b*(c-t))\n",
    "    return a*b*g*np.exp(-g)\n",
    "\n",
    "# Create vectorised versions\n",
    "vgompertz = np.vectorize(gompertz)\n",
    "vgompertz_deriv = np.vectorize(gompertz_deriv)"
   ]
  },
  {
   "cell_type": "markdown",
   "id": "c3951dff",
   "metadata": {},
   "source": [
    "### Interactive plot\n",
    "Here we build an interactive plot comparing Gompertz growth with logistic growth, and allowing the user to adjust the three model parameters."
   ]
  },
  {
   "cell_type": "code",
   "execution_count": 12,
   "id": "ebfa7bec",
   "metadata": {},
   "outputs": [
    {
     "data": {
      "application/vnd.jupyter.widget-view+json": {
       "model_id": "d5f10d778b0444aa8f9618553fd5baf4",
       "version_major": 2,
       "version_minor": 0
      },
      "text/plain": [
       "interactive(children=(FloatSlider(value=310.0, description='limit ($a$)', max=500.0, min=100.0, step=10.0), Fl…"
      ]
     },
     "metadata": {},
     "output_type": "display_data"
    }
   ],
   "source": [
    "# Wrap the plotting in a function\n",
    "def plot_models(a,b,c,d):\n",
    "    \n",
    "    x=np.linspace(0,50,101,endpoint=True)\n",
    "    \n",
    "    fig, axs = plt.subplots(2, figsize=[8.0,6.0], sharex = True)\n",
    "    \n",
    "    axs[0].plot(x,vlogistic(x, a, b, c, d), label='Logistic')\n",
    "    axs[0].plot(x,vgompertz(x, a, b, c, d), label='Gompertz')\n",
    "    axs[0].set_ylim(0.0)\n",
    "    axs[0].set_ylabel('quantity Q(t)')\n",
    "    axs[0].set_title('Growth models' )\n",
    "    \n",
    "    axs[1].plot(x,vlogistic_deriv(x, a, b, c), label='Logistic')\n",
    "    axs[1].plot(x,vgompertz_deriv(x, a, b, c), label='Gompertz')\n",
    "    axs[1].set_ylim(0.0)\n",
    "    axs[1].set_xlim(0.0,50.0)\n",
    "    axs[1].set_xlabel('time units ($t$)')\n",
    "    axs[1].set_ylabel(\"time derivative Q'(t)\")\n",
    "    \n",
    "    axs[1].legend()\n",
    "    plt.show()\n",
    "\n",
    "# Define widgets for interactivity\n",
    "a_widget = widgets.FloatSlider(value = 310.0, \n",
    "                               min = 100.0, \n",
    "                               max = 500.0,\n",
    "                               step = 10.0,\n",
    "                               description = 'limit ($a$)')\n",
    "\n",
    "b_widget = widgets.FloatSlider(value = 0.16, \n",
    "                               min = 0.0, \n",
    "                               max = 1.0,\n",
    "                               step = 0.02,\n",
    "                               description = 'rate ($b$)')\n",
    "\n",
    "c_widget = widgets.FloatSlider(value = 16.0, \n",
    "                               min = 0.0, \n",
    "                               max = 100.0, \n",
    "                               description = 'offset ($c$)')\n",
    "\n",
    "# Instantiate interactive plot\n",
    "ifig = widgets.interactive(plot_models, \n",
    "                           a = a_widget, \n",
    "                           b = b_widget, \n",
    "                           c = c_widget, \n",
    "                           d = widgets.fixed(0))\n",
    "\n",
    "# Show the plot\n",
    "ifig"
   ]
  },
  {
   "cell_type": "markdown",
   "id": "731fce0a",
   "metadata": {},
   "source": [
    "### Fitting to data\n",
    "We can fit our two model functions to the data points in the look-up tables. For comparison, we will fit to data for 'Indigenous forest' and 'P. Radiata in Gis'."
   ]
  },
  {
   "cell_type": "code",
   "execution_count": 13,
   "id": "a1e3c03b",
   "metadata": {},
   "outputs": [],
   "source": [
    "# Wrap the fitting and plotting in a function\n",
    "def fit_and_plot(T, table):\n",
    "    \n",
    "    # Initial parameter values a, b, c, and d\n",
    "    pini = [350.0,0.1,20.0,0.0]\n",
    "    \n",
    "    stock = list(table[T].values)\n",
    "    age=list(range(len(stock)))\n",
    "    \n",
    "    # Optimise parameters and error for Gompertz model\n",
    "    popt_g, pcov_g = curve_fit(gompertz,age,stock, p0=pini)\n",
    "    perr_g = np.sqrt(np.diag(pcov_g))\n",
    "\n",
    "    # Optimise parameters and get error for logistic model\n",
    "    popt_l, pcov_l = curve_fit(logistic,age,stock, p0=pini)\n",
    "    perr_l = np.sqrt(np.diag(pcov_l))\n",
    "\n",
    "    # Build a static plot and show it\n",
    "    fig, axs = plt.subplots(2, figsize=[8.0,6.0], sharex = True)\n",
    "    axs[0].plot(age, stock, '.', label='data')\n",
    "    axs[0].plot(age,vgompertz(age,*popt_g), label='Gompertz')\n",
    "    axs[0].plot(age,vlogistic(age,*popt_l), label='Logistic')\n",
    "    axs[0].set_ylabel('carbon stock\\n(tons/ha)')\n",
    "    axs[0].set_xlim(0,50)\n",
    "    axs[0].set_ylim(0)\n",
    "    axs[0].set_title(T, fontsize=16)\n",
    "    axs[0].legend()\n",
    "    axs[1].plot(age,np.zeros(len(age)), '.', label='data')\n",
    "    axs[1].plot(age,(vgompertz(age,*popt_g)-stock), label='Gompertz')\n",
    "    axs[1].plot(age,(vlogistic(age,*popt_l)-stock), label='Logistic')\n",
    "    axs[1].set_ylabel('deviation\\nfrom data')\n",
    "    axs[1].set_xlabel('age (years)')\n",
    "    \n",
    "    # show the plot\n",
    "    plt.show()\n",
    "    \n",
    "    return {'gop':popt_g, 'lop':popt_l}"
   ]
  },
  {
   "cell_type": "markdown",
   "id": "76ff8ae0",
   "metadata": {},
   "source": [
    "Apply the ``fit_and_plot()`` function defined above to \"Indigenous forest\"."
   ]
  },
  {
   "cell_type": "code",
   "execution_count": 14,
   "id": "e763b914",
   "metadata": {},
   "outputs": [
    {
     "data": {
      "image/png": "[encoded data removed]",
      "text/plain": [
       "<Figure size 576x432 with 2 Axes>"
      ]
     },
     "metadata": {
      "needs_background": "light"
     },
     "output_type": "display_data"
    }
   ],
   "source": [
    "native_oparams = fit_and_plot(T = 'Indigenous forest', table = table)"
   ]
  },
  {
   "cell_type": "markdown",
   "id": "6c63f218",
   "metadata": {},
   "source": [
    "The plots clearly show that the optimised Gompertz model follows the data more closely than the optimised logistic model. However, both models exhibit smoothly oscillating deviation from the data, suggesting that the data was generated using a more elaborate model. The oscillations become more apparent (for *both* models) when we fit to another forest type, say \"P.Radiata in Gis\"."
   ]
  },
  {
   "cell_type": "code",
   "execution_count": 15,
   "id": "9ad2ebb6",
   "metadata": {},
   "outputs": [
    {
     "data": {
      "image/png": "[encoded data removed]",
      "text/plain": [
       "<Figure size 576x432 with 2 Axes>"
      ]
     },
     "metadata": {
      "needs_background": "light"
     },
     "output_type": "display_data"
    }
   ],
   "source": [
    "pine_oparams = fit_and_plot(T = 'P.Radiata in Gis', table = table)"
   ]
  },
  {
   "cell_type": "code",
   "execution_count": 16,
   "id": "de5360a6",
   "metadata": {},
   "outputs": [
    {
     "data": {
      "text/plain": [
       "{'gop': array([ 3.35996569e+02,  1.04146633e-01,  1.70921617e+01, -1.52174896e+00]),\n",
       " 'lop': array([ 3.55698769e+02,  1.40427036e-01,  1.93155561e+01, -3.11557466e+01])}"
      ]
     },
     "metadata": {},
     "output_type": "display_data"
    },
    {
     "data": {
      "text/plain": [
       "{'gop': array([ 2.00656408e+03,  4.39577284e-02,  1.81823052e+01, -2.50332112e+02]),\n",
       " 'lop': array([ 2.31224235e+03,  5.52206519e-02,  1.90109010e+01, -6.41761243e+02])}"
      ]
     },
     "metadata": {},
     "output_type": "display_data"
    }
   ],
   "source": [
    "# Display the optimised parameter sets\n",
    "display(native_oparams)\n",
    "display(pine_oparams)"
   ]
  },
  {
   "cell_type": "markdown",
   "id": "02740074",
   "metadata": {},
   "source": [
    "### C_change model"
   ]
  },
  {
   "cell_type": "code",
   "execution_count": 17,
   "id": "f0eb972c",
   "metadata": {},
   "outputs": [
    {
     "data": {
      "text/plain": [
       "[<matplotlib.lines.Line2D at 0x7f0dceff47f0>]"
      ]
     },
     "execution_count": 17,
     "metadata": {},
     "output_type": "execute_result"
    },
    {
     "data": {
      "image/png": "[encoded data removed]",
      "text/plain": [
       "<Figure size 432x288 with 1 Axes>"
      ]
     },
     "metadata": {
      "needs_background": "light"
     },
     "output_type": "display_data"
    }
   ],
   "source": [
    "def beets(t, a, b, c, d):\n",
    "    return (a-d)/(1.0+(t/c)**b) + d\n",
    "\n",
    "vbeets = np.vectorize(beets)\n",
    "\n",
    "x=np.linspace(1,50,101,endpoint=True)\n",
    "plt.plot(x,vbeets(x,a=72.0, b=-2.938, c=8.710, d=33.850))"
   ]
  },
  {
   "cell_type": "markdown",
   "id": "d780dbb4",
   "metadata": {},
   "source": [
    "## Geospatial mapping\n",
    "\n",
    "Work in progress, but the idea is to show a map of New Zealand with a pinned geolocation, and outline the relevant region for Pinus Radiata (if relevant)."
   ]
  },
  {
   "cell_type": "code",
   "execution_count": null,
   "id": "bc265088",
   "metadata": {},
   "outputs": [],
   "source": []
  }
 ],
 "metadata": {
  "kernelspec": {
   "display_name": "Python 3 (ipykernel)",
   "language": "python",
   "name": "python3"
  },
  "language_info": {
   "codemirror_mode": {
    "name": "ipython",
    "version": 3
   },
   "file_extension": ".py",
   "mimetype": "text/x-python",
   "name": "python",
   "nbconvert_exporter": "python",
   "pygments_lexer": "ipython3",
   "version": "3.8.10"
  },
  "toc": {
   "base_numbering": 1,
   "nav_menu": {},
   "number_sections": true,
   "sideBar": true,
   "skip_h1_title": true,
   "title_cell": "Table of Contents",
   "title_sidebar": "Contents",
   "toc_cell": false,
   "toc_position": {
    "height": "calc(100% - 180px)",
    "left": "10px",
    "top": "150px",
    "width": "184.8px"
   },
   "toc_section_display": true,
   "toc_window_display": true
  }
 },
 "nbformat": 4,
 "nbformat_minor": 5
}
